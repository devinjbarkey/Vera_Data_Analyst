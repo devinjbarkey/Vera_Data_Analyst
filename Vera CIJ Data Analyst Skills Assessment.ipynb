{
 "cells": [
  {
   "cell_type": "markdown",
   "metadata": {},
   "source": [
    "# Vera CIJ Data Analyst Skills Assessment\n",
    "Devin Barkey\n",
    "\n",
    "March 5, 2021\n",
    "\n",
    "Programs used: Python"
   ]
  },
  {
   "cell_type": "code",
   "execution_count": 1,
   "metadata": {},
   "outputs": [],
   "source": [
    "%matplotlib inline\n",
    "import pandas as pd\n",
    "import numpy as np\n",
    "import matplotlib.pyplot as plt\n",
    "import seaborn as sns"
   ]
  },
  {
   "cell_type": "code",
   "execution_count": 2,
   "metadata": {},
   "outputs": [],
   "source": [
    "file_path = \"/Users/devinbarkey/Documents/Job Applications/Vera Data Analyst/Vera Data Analyst Skills Assessment/Copy_of_Dataset_for_Data_Analyst_Skills_Assessment_CIJ.csv\"\n",
    "program_data = pd.read_csv(file_path, nrows = 100)"
   ]
  },
  {
   "cell_type": "code",
   "execution_count": 3,
   "metadata": {},
   "outputs": [
    {
     "data": {
      "text/html": [
       "<div>\n",
       "<style scoped>\n",
       "    .dataframe tbody tr th:only-of-type {\n",
       "        vertical-align: middle;\n",
       "    }\n",
       "\n",
       "    .dataframe tbody tr th {\n",
       "        vertical-align: top;\n",
       "    }\n",
       "\n",
       "    .dataframe thead th {\n",
       "        text-align: right;\n",
       "    }\n",
       "</style>\n",
       "<table border=\"1\" class=\"dataframe\">\n",
       "  <thead>\n",
       "    <tr style=\"text-align: right;\">\n",
       "      <th></th>\n",
       "      <th>Participant_ID</th>\n",
       "      <th>Participant_First_Name</th>\n",
       "      <th>Participant_Last_Name</th>\n",
       "      <th>Nationality</th>\n",
       "      <th>Gender</th>\n",
       "      <th>Date_Participated_in_Program</th>\n",
       "      <th>Number_of_Referrals</th>\n",
       "    </tr>\n",
       "  </thead>\n",
       "  <tbody>\n",
       "    <tr>\n",
       "      <th>0</th>\n",
       "      <td>447235</td>\n",
       "      <td>Michael</td>\n",
       "      <td>Phelps</td>\n",
       "      <td>United States</td>\n",
       "      <td>M</td>\n",
       "      <td>7/16/18</td>\n",
       "      <td>0.0</td>\n",
       "    </tr>\n",
       "    <tr>\n",
       "      <th>1</th>\n",
       "      <td>955356</td>\n",
       "      <td>Larisa</td>\n",
       "      <td>Latynina</td>\n",
       "      <td>Soviet Union</td>\n",
       "      <td>F</td>\n",
       "      <td>5/25/18</td>\n",
       "      <td>NaN</td>\n",
       "    </tr>\n",
       "    <tr>\n",
       "      <th>2</th>\n",
       "      <td>134146</td>\n",
       "      <td>Paavo</td>\n",
       "      <td>Nurmi</td>\n",
       "      <td>Finland</td>\n",
       "      <td>M</td>\n",
       "      <td>1/17/18</td>\n",
       "      <td>2.0</td>\n",
       "    </tr>\n",
       "    <tr>\n",
       "      <th>3</th>\n",
       "      <td>328398</td>\n",
       "      <td>Mark</td>\n",
       "      <td>Spitz</td>\n",
       "      <td>United States</td>\n",
       "      <td>M</td>\n",
       "      <td>11/29/18</td>\n",
       "      <td>2.0</td>\n",
       "    </tr>\n",
       "    <tr>\n",
       "      <th>4</th>\n",
       "      <td>647190</td>\n",
       "      <td>Carl</td>\n",
       "      <td>Lewis</td>\n",
       "      <td>United States</td>\n",
       "      <td>M</td>\n",
       "      <td>1/8/18</td>\n",
       "      <td>3.0</td>\n",
       "    </tr>\n",
       "  </tbody>\n",
       "</table>\n",
       "</div>"
      ],
      "text/plain": [
       "  Participant_ID Participant_First_Name Participant_Last_Name     Nationality  \\\n",
       "0         447235                Michael                Phelps   United States   \n",
       "1         955356                 Larisa              Latynina    Soviet Union   \n",
       "2         134146                  Paavo                 Nurmi         Finland   \n",
       "3         328398                   Mark                 Spitz   United States   \n",
       "4         647190                   Carl                 Lewis   United States   \n",
       "\n",
       "  Gender Date_Participated_in_Program  Number_of_Referrals  \n",
       "0      M                      7/16/18                  0.0  \n",
       "1      F                      5/25/18                  NaN  \n",
       "2      M                      1/17/18                  2.0  \n",
       "3      M                     11/29/18                  2.0  \n",
       "4      M                       1/8/18                  3.0  "
      ]
     },
     "execution_count": 3,
     "metadata": {},
     "output_type": "execute_result"
    }
   ],
   "source": [
    "program_data.head()"
   ]
  },
  {
   "cell_type": "markdown",
   "metadata": {},
   "source": [
    "## Question 1: Cleaning the Data"
   ]
  },
  {
   "cell_type": "markdown",
   "metadata": {},
   "source": [
    "### Handling Missing Values\n",
    "First, I would determine how we want to handle missing values. Upon examining the data, we see that about 11 entries lack a nationality, 22 lack a gender, and 9 lack a value for the number of referalls. For instance, could the nationality or gender of a program participant be determined from other information? If the number of referalls is not listed, should we assume the value is zero?"
   ]
  },
  {
   "cell_type": "code",
   "execution_count": 4,
   "metadata": {},
   "outputs": [
    {
     "data": {
      "text/plain": [
       "Participant_ID                   0\n",
       "Participant_First_Name           0\n",
       "Participant_Last_Name            0\n",
       "Nationality                     11\n",
       "Gender                          22\n",
       "Date_Participated_in_Program     0\n",
       "Number_of_Referrals              9\n",
       "dtype: int64"
      ]
     },
     "execution_count": 4,
     "metadata": {},
     "output_type": "execute_result"
    }
   ],
   "source": [
    "program_data.isnull().sum()"
   ]
  },
  {
   "cell_type": "markdown",
   "metadata": {},
   "source": [
    "### Parsing Dates\n",
    "Next, I would ensure that the dates are of the proper datetime type so that we can use that column at a later time."
   ]
  },
  {
   "cell_type": "code",
   "execution_count": 5,
   "metadata": {},
   "outputs": [
    {
     "data": {
      "text/plain": [
       "0    2018-07-16\n",
       "1    2018-05-25\n",
       "2    2018-01-17\n",
       "3    2018-11-29\n",
       "4    2018-01-08\n",
       "        ...    \n",
       "95   2018-08-21\n",
       "96   2018-06-09\n",
       "97   2018-01-12\n",
       "98   2018-09-15\n",
       "99   2018-01-14\n",
       "Name: Date_Participated_in_Program, Length: 100, dtype: datetime64[ns]"
      ]
     },
     "execution_count": 5,
     "metadata": {},
     "output_type": "execute_result"
    }
   ],
   "source": [
    "program_data['Date_Participated_in_Program'] = pd.to_datetime(program_data['Date_Participated_in_Program'], format = '%m/%d/%y')\n",
    "program_data['Date_Participated_in_Program']"
   ]
  },
  {
   "cell_type": "markdown",
   "metadata": {},
   "source": [
    "### Inconsistent Data Entry\n",
    "There appear to be three types of data entry inconsistencies. First, some participant IDs contain a unexplained decimal point. This can be remedied through the code below."
   ]
  },
  {
   "cell_type": "code",
   "execution_count": 6,
   "metadata": {},
   "outputs": [
    {
     "data": {
      "text/plain": [
       "'1047.39'"
      ]
     },
     "execution_count": 6,
     "metadata": {},
     "output_type": "execute_result"
    }
   ],
   "source": [
    "program_data.iloc[30,0]"
   ]
  },
  {
   "cell_type": "code",
   "execution_count": 7,
   "metadata": {},
   "outputs": [],
   "source": [
    "program_data['Participant_ID'] = program_data['Participant_ID'].str.replace('.', '') "
   ]
  },
  {
   "cell_type": "code",
   "execution_count": 8,
   "metadata": {},
   "outputs": [
    {
     "data": {
      "text/plain": [
       "'104739'"
      ]
     },
     "execution_count": 8,
     "metadata": {},
     "output_type": "execute_result"
    }
   ],
   "source": [
    "program_data.iloc[30,0]"
   ]
  },
  {
   "cell_type": "markdown",
   "metadata": {},
   "source": [
    "Second, we have a variety of values for the same nationality, most notably \"USA\", \"US\", and \"United States\" as well as an unknown sequence before some values. To have an accurate count of nationality, we must fix this and transform the various iterations of the United States into a single value. We could also consolidate \"Russia\" and \"Soviet Union\" into one marker as well, but for now I'll keep them separated. I would also need guidance on whether to classify \"East Germany\" as \"Germany\" or leave it as a separate nationality. "
   ]
  },
  {
   "cell_type": "code",
   "execution_count": 9,
   "metadata": {},
   "outputs": [
    {
     "data": {
      "text/plain": [
       "array(['\\xa0United States', '\\xa0Soviet Union', '\\xa0Finland',\n",
       "       '\\xa0Norway', nan, '\\xa0Japan', 'USA', 'Czech', 'Hungry',\n",
       "       '\\xa0Belgium', '\\xa0Italy', '\\xa0Sweden', '\\xa0Great Britain',\n",
       "       '\\xa0South Korea', 'Czecoslovakia', '\\xa0Hungary', 'U.S.',\n",
       "       '\\xa0Romania', '\\xa0Australia', '\\xa0Germany', '\\xa0France',\n",
       "       '\\xa0United States of America', 'US', '\\xa0China', '\\xa0Russia',\n",
       "       '\\xa0East Germany', '\\xa0Switzerland', '\\xa0Netherlands'],\n",
       "      dtype=object)"
      ]
     },
     "execution_count": 9,
     "metadata": {},
     "output_type": "execute_result"
    }
   ],
   "source": [
    "program_data['Nationality'].unique()"
   ]
  },
  {
   "cell_type": "code",
   "execution_count": 10,
   "metadata": {},
   "outputs": [
    {
     "data": {
      "text/plain": [
       "array(['United States', 'Soviet Union', 'Finland', 'Norway', nan, 'Japan',\n",
       "       'USA', 'Czech', 'Hungry', 'Belgium', 'Italy', 'Sweden',\n",
       "       'Great Britain', 'South Korea', 'Czecoslovakia', 'Hungary', 'U.S.',\n",
       "       'Romania', 'Australia', 'Germany', 'France',\n",
       "       'United States of America', 'US', 'China', 'Russia',\n",
       "       'East Germany', 'Switzerland', 'Netherlands'], dtype=object)"
      ]
     },
     "execution_count": 10,
     "metadata": {},
     "output_type": "execute_result"
    }
   ],
   "source": [
    "program_data['Nationality'] = program_data['Nationality'].str.strip('\\xa0')\n",
    "program_data['Nationality'].unique()"
   ]
  },
  {
   "cell_type": "code",
   "execution_count": 11,
   "metadata": {},
   "outputs": [
    {
     "data": {
      "text/plain": [
       "array(['United States', 'Soviet Union', 'Finland', 'Norway', nan, 'Japan',\n",
       "       'Czech', 'Hungry', 'Belgium', 'Italy', 'Sweden', 'Great Britain',\n",
       "       'South Korea', 'Czecoslovakia', 'Hungary', 'Romania', 'Australia',\n",
       "       'Germany', 'France', 'China', 'Russia', 'East Germany',\n",
       "       'Switzerland', 'Netherlands'], dtype=object)"
      ]
     },
     "execution_count": 11,
     "metadata": {},
     "output_type": "execute_result"
    }
   ],
   "source": [
    "us = ['USA', 'U.S.', 'United States of America', 'US']\n",
    "rows_to_replace = program_data['Nationality'].isin(us)\n",
    "program_data.loc[rows_to_replace, 'Nationality'] = \"United States\"\n",
    "program_data['Nationality'].unique()"
   ]
  },
  {
   "cell_type": "markdown",
   "metadata": {},
   "source": [
    "Third, we note from a just a scan of the data that there are duplicate entries. For instance, Michael Phelps appears several times. Thanklfully, `pandas` has just the function for this."
   ]
  },
  {
   "cell_type": "code",
   "execution_count": 12,
   "metadata": {},
   "outputs": [
    {
     "data": {
      "text/html": [
       "<div>\n",
       "<style scoped>\n",
       "    .dataframe tbody tr th:only-of-type {\n",
       "        vertical-align: middle;\n",
       "    }\n",
       "\n",
       "    .dataframe tbody tr th {\n",
       "        vertical-align: top;\n",
       "    }\n",
       "\n",
       "    .dataframe thead th {\n",
       "        text-align: right;\n",
       "    }\n",
       "</style>\n",
       "<table border=\"1\" class=\"dataframe\">\n",
       "  <thead>\n",
       "    <tr style=\"text-align: right;\">\n",
       "      <th></th>\n",
       "      <th>Participant_ID</th>\n",
       "      <th>Participant_First_Name</th>\n",
       "      <th>Participant_Last_Name</th>\n",
       "      <th>Nationality</th>\n",
       "      <th>Gender</th>\n",
       "      <th>Date_Participated_in_Program</th>\n",
       "      <th>Number_of_Referrals</th>\n",
       "    </tr>\n",
       "  </thead>\n",
       "  <tbody>\n",
       "    <tr>\n",
       "      <th>0</th>\n",
       "      <td>447235</td>\n",
       "      <td>Michael</td>\n",
       "      <td>Phelps</td>\n",
       "      <td>United States</td>\n",
       "      <td>M</td>\n",
       "      <td>2018-07-16</td>\n",
       "      <td>0.0</td>\n",
       "    </tr>\n",
       "    <tr>\n",
       "      <th>17</th>\n",
       "      <td>447235</td>\n",
       "      <td>Michael</td>\n",
       "      <td>Phelps</td>\n",
       "      <td>United States</td>\n",
       "      <td>M</td>\n",
       "      <td>2018-07-16</td>\n",
       "      <td>0.0</td>\n",
       "    </tr>\n",
       "    <tr>\n",
       "      <th>18</th>\n",
       "      <td>447235</td>\n",
       "      <td>Michael</td>\n",
       "      <td>Phelps</td>\n",
       "      <td>United States</td>\n",
       "      <td>M</td>\n",
       "      <td>2018-07-16</td>\n",
       "      <td>0.0</td>\n",
       "    </tr>\n",
       "    <tr>\n",
       "      <th>19</th>\n",
       "      <td>447235</td>\n",
       "      <td>Michael</td>\n",
       "      <td>Phelps</td>\n",
       "      <td>United States</td>\n",
       "      <td>M</td>\n",
       "      <td>2018-07-16</td>\n",
       "      <td>0.0</td>\n",
       "    </tr>\n",
       "  </tbody>\n",
       "</table>\n",
       "</div>"
      ],
      "text/plain": [
       "   Participant_ID Participant_First_Name Participant_Last_Name    Nationality  \\\n",
       "0          447235                Michael                Phelps  United States   \n",
       "17         447235                Michael                Phelps  United States   \n",
       "18         447235                Michael                Phelps  United States   \n",
       "19         447235                Michael                Phelps  United States   \n",
       "\n",
       "   Gender Date_Participated_in_Program  Number_of_Referrals  \n",
       "0       M                   2018-07-16                  0.0  \n",
       "17      M                   2018-07-16                  0.0  \n",
       "18      M                   2018-07-16                  0.0  \n",
       "19      M                   2018-07-16                  0.0  "
      ]
     },
     "execution_count": 12,
     "metadata": {},
     "output_type": "execute_result"
    }
   ],
   "source": [
    "program_data.loc[program_data['Participant_Last_Name'] == 'Phelps']"
   ]
  },
  {
   "cell_type": "code",
   "execution_count": 13,
   "metadata": {},
   "outputs": [],
   "source": [
    "program_data.drop_duplicates(inplace = True)"
   ]
  },
  {
   "cell_type": "markdown",
   "metadata": {},
   "source": [
    "## Question 2"
   ]
  },
  {
   "cell_type": "markdown",
   "metadata": {},
   "source": [
    "We can get the number of participants by looking at the `shape` parameter of `program_data`."
   ]
  },
  {
   "cell_type": "code",
   "execution_count": 14,
   "metadata": {},
   "outputs": [
    {
     "data": {
      "text/plain": [
       "95"
      ]
     },
     "execution_count": 14,
     "metadata": {},
     "output_type": "execute_result"
    }
   ],
   "source": [
    "program_data.shape[0]"
   ]
  },
  {
   "cell_type": "markdown",
   "metadata": {},
   "source": [
    "## Question 3"
   ]
  },
  {
   "cell_type": "markdown",
   "metadata": {},
   "source": [
    "We can find the most frequent nationalities using the `value_counts` function and then looking at the top 5 entries using `head()`."
   ]
  },
  {
   "cell_type": "code",
   "execution_count": 15,
   "metadata": {},
   "outputs": [
    {
     "data": {
      "text/plain": [
       "United States    26\n",
       "Soviet Union      9\n",
       "Norway            8\n",
       "Japan             5\n",
       "Great Britain     4\n",
       "Name: Nationality, dtype: int64"
      ]
     },
     "execution_count": 15,
     "metadata": {},
     "output_type": "execute_result"
    }
   ],
   "source": [
    "nationalities = program_data['Nationality'].value_counts().head()\n",
    "nationalities"
   ]
  },
  {
   "cell_type": "code",
   "execution_count": 16,
   "metadata": {},
   "outputs": [
    {
     "data": {
      "text/plain": [
       "Text(0.5, 0, 'Nationality')"
      ]
     },
     "execution_count": 16,
     "metadata": {},
     "output_type": "execute_result"
    },
    {
     "data": {
      "image/png": "[encoded data removed]",
      "text/plain": [
       "<Figure size 432x288 with 1 Axes>"
      ]
     },
     "metadata": {
      "needs_background": "light"
     },
     "output_type": "display_data"
    }
   ],
   "source": [
    "plt.figure()\n",
    "plt.title(\"2018 Participants by Nationality\")\n",
    "sns.barplot(x = nationalities.index, y = nationalities)\n",
    "plt.ylabel(\"Number of Participants\")\n",
    "plt.xlabel(\"Nationality\")"
   ]
  },
  {
   "cell_type": "markdown",
   "metadata": {},
   "source": [
    "## Question 4"
   ]
  },
  {
   "cell_type": "markdown",
   "metadata": {},
   "source": [
    "a) From below, we see that on average a participant made 3 referrals."
   ]
  },
  {
   "cell_type": "code",
   "execution_count": 17,
   "metadata": {},
   "outputs": [
    {
     "data": {
      "text/plain": [
       "count    86.000000\n",
       "mean      2.965116\n",
       "std       8.180965\n",
       "min       0.000000\n",
       "25%       0.000000\n",
       "50%       1.000000\n",
       "75%       4.000000\n",
       "max      61.000000\n",
       "Name: Number_of_Referrals, dtype: float64"
      ]
     },
     "execution_count": 17,
     "metadata": {},
     "output_type": "execute_result"
    }
   ],
   "source": [
    "program_data['Number_of_Referrals'].describe()"
   ]
  },
  {
   "cell_type": "markdown",
   "metadata": {},
   "source": [
    "b) From above and the boxplot below, we can see that most participants made up to 5 or so referrals while two participants made a large number of referrals."
   ]
  },
  {
   "cell_type": "code",
   "execution_count": 18,
   "metadata": {},
   "outputs": [
    {
     "data": {
      "text/plain": [
       "<matplotlib.axes._subplots.AxesSubplot at 0x7fa57ecdd610>"
      ]
     },
     "execution_count": 18,
     "metadata": {},
     "output_type": "execute_result"
    },
    {
     "data": {
      "image/png": "[encoded data removed]",
      "text/plain": [
       "<Figure size 432x288 with 1 Axes>"
      ]
     },
     "metadata": {
      "needs_background": "light"
     },
     "output_type": "display_data"
    }
   ],
   "source": [
    "sns.boxplot(program_data['Number_of_Referrals'])"
   ]
  },
  {
   "cell_type": "markdown",
   "metadata": {},
   "source": [
    "c) From below, at least 43 participants made at least one referral."
   ]
  },
  {
   "cell_type": "code",
   "execution_count": 19,
   "metadata": {},
   "outputs": [
    {
     "data": {
      "text/plain": [
       "43"
      ]
     },
     "execution_count": 19,
     "metadata": {},
     "output_type": "execute_result"
    }
   ],
   "source": [
    "program_data.loc[program_data['Number_of_Referrals'] > 0].shape[0]"
   ]
  },
  {
   "cell_type": "markdown",
   "metadata": {},
   "source": [
    "## Question 5"
   ]
  },
  {
   "cell_type": "markdown",
   "metadata": {},
   "source": [
    "a) Before merging the two datasets, I would perform many of the cleaning procedures outlined in my response to Question 1. In particular, I would ensure that the `Participant_ID` columns for both datasets had the same format and did not contain any entry errors."
   ]
  },
  {
   "cell_type": "markdown",
   "metadata": {},
   "source": [
    "b) In Python, one could merge these two datasets using `pandas`'s `join` or `merge` functions  to perform an inner join using the `Participant_ID` for the `on` parameter. For instance, it could be done as follows:\n",
    "```\n",
    "merged_data = administrative_data.join(program_data, on = 'Participant_ID')\n",
    "```\n",
    "or\n",
    "```\n",
    "merged_data = administrative_data.merge(program_data, on = 'Participant_ID')\n",
    "```"
   ]
  },
  {
   "cell_type": "markdown",
   "metadata": {},
   "source": [
    "c) One important data quality check I would perform is to ensure that the number of entries in the merged dataset is the same as that in the administrative dataset. If every entry in the program data is be matched with an entry on the administrative data, the join should not result in any new entries. After doing this check, I would clean the data by eliminating duplicate columns where possible."
   ]
  }
 ],
 "metadata": {
  "kernelspec": {
   "display_name": "Python 3",
   "language": "python",
   "name": "python3"
  },
  "language_info": {
   "codemirror_mode": {
    "name": "ipython",
    "version": 3
   },
   "file_extension": ".py",
   "mimetype": "text/x-python",
   "name": "python",
   "nbconvert_exporter": "python",
   "pygments_lexer": "ipython3",
   "version": "3.7.6"
  }
 },
 "nbformat": 4,
 "nbformat_minor": 4
}
